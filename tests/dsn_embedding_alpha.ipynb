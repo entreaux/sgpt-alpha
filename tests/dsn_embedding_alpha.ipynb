{
 "cells": [
  {
   "cell_type": "code",
   "execution_count": 13,
   "id": "b11327f0-a21e-42c8-8870-e719823505cd",
   "metadata": {},
   "outputs": [],
   "source": [
    "import torch\n",
    "from spectral_gpt.layers.dsn_embedding import DSNEmbedding\n",
    "\n",
    "def test_dsn_embedding_output_shape_and_range():\n",
    "    B, T, Ω = 2, 4, 8\n",
    "    model = DSNEmbedding(max_depth=Ω)\n",
    "    x = torch.randint(low=0, high=256, size=(B, T), dtype=torch.long)\n",
    "    out = model(x)\n",
    "    # Assert output shape is (B, T, Ω)\n",
    "    assert out.shape == (B, T, Ω)\n",
    "    # All values should be finite floats\n",
    "    assert torch.isfinite(out).all()\n"
   ]
  },
  {
   "cell_type": "code",
   "execution_count": 11,
   "id": "e2dd977f-63b2-481c-af26-bebacf3933af",
   "metadata": {},
   "outputs": [
    {
     "name": "stdout",
     "output_type": "stream",
     "text": [
      "DSNEmbedding()\n"
     ]
    }
   ],
   "source": [
    "from spectral_gpt.layers.dsn_embedding import DSNEmbedding\n",
    "\n",
    "# quick smoke test:\n",
    "model = DSNEmbedding()\n",
    "print(model)   # should print a DSNEmbedding object, not a ModuleNotFoundError\n"
   ]
  },
  {
   "cell_type": "code",
   "execution_count": null,
   "id": "2cac066e-5297-4e23-a09f-70366e63129b",
   "metadata": {},
   "outputs": [],
   "source": []
  }
 ],
 "metadata": {
  "kernelspec": {
   "display_name": "Python [conda env:base] *",
   "language": "python",
   "name": "conda-base-py"
  },
  "language_info": {
   "codemirror_mode": {
    "name": "ipython",
    "version": 3
   },
   "file_extension": ".py",
   "mimetype": "text/x-python",
   "name": "python",
   "nbconvert_exporter": "python",
   "pygments_lexer": "ipython3",
   "version": "3.12.2"
  }
 },
 "nbformat": 4,
 "nbformat_minor": 5
}
