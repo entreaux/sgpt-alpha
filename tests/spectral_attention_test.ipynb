{
 "cells": [
  {
   "cell_type": "code",
   "execution_count": 2,
   "id": "25c9407b-4514-4ecd-a841-85c0bc0dfca1",
   "metadata": {},
   "outputs": [],
   "source": [
    "import torch\n",
    "from spectral_gpt.layers.spectral_attention import SpectralAttention\n",
    "\n",
    "def test_spectral_attention_shapes():\n",
    "    B, L, d, h = 2, 16, 32, 4\n",
    "    sa = SpectralAttention(d_model=d, n_heads=h)\n",
    "    x = torch.randn(B, L, d)\n",
    "    y = sa(x)\n",
    "    assert y.shape == (B, L, d)\n",
    "    assert torch.isfinite(y).all()\n"
   ]
  },
  {
   "cell_type": "code",
   "execution_count": null,
   "id": "33169218-8cec-4f56-8a46-ca930ecba3e5",
   "metadata": {},
   "outputs": [],
   "source": []
  }
 ],
 "metadata": {
  "kernelspec": {
   "display_name": "Python [conda env:base] *",
   "language": "python",
   "name": "conda-base-py"
  },
  "language_info": {
   "codemirror_mode": {
    "name": "ipython",
    "version": 3
   },
   "file_extension": ".py",
   "mimetype": "text/x-python",
   "name": "python",
   "nbconvert_exporter": "python",
   "pygments_lexer": "ipython3",
   "version": "3.12.2"
  }
 },
 "nbformat": 4,
 "nbformat_minor": 5
}
