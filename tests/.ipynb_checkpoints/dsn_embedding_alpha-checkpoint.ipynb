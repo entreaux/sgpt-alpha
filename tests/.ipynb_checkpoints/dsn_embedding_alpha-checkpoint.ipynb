{
 "cells": [
  {
   "cell_type": "code",
   "execution_count": 34,
   "id": "b11327f0-a21e-42c8-8870-e719823505cd",
   "metadata": {},
   "outputs": [
    {
     "ename": "ModuleNotFoundError",
     "evalue": "No module named 'src'",
     "output_type": "error",
     "traceback": [
      "\u001b[0;31m---------------------------------------------------------------------------\u001b[0m",
      "\u001b[0;31mModuleNotFoundError\u001b[0m                       Traceback (most recent call last)",
      "Cell \u001b[0;32mIn[34], line 2\u001b[0m\n\u001b[1;32m      1\u001b[0m \u001b[38;5;28;01mimport\u001b[39;00m \u001b[38;5;21;01mtorch\u001b[39;00m\n\u001b[0;32m----> 2\u001b[0m \u001b[38;5;28;01mfrom\u001b[39;00m \u001b[38;5;21;01msrc\u001b[39;00m\u001b[38;5;21;01m.\u001b[39;00m\u001b[38;5;21;01mspectral_gpt\u001b[39;00m\u001b[38;5;21;01m.\u001b[39;00m\u001b[38;5;21;01mlayers\u001b[39;00m\u001b[38;5;21;01m.\u001b[39;00m\u001b[38;5;21;01mdsn_embedding\u001b[39;00m \u001b[38;5;28;01mimport\u001b[39;00m DSNEmbedding\n\u001b[1;32m      4\u001b[0m \u001b[38;5;28;01mdef\u001b[39;00m \u001b[38;5;21mtest_dsn_embedding_output_shape_and_range\u001b[39m():\n\u001b[1;32m      5\u001b[0m     B, T, Ω \u001b[38;5;241m=\u001b[39m \u001b[38;5;241m2\u001b[39m, \u001b[38;5;241m4\u001b[39m, \u001b[38;5;241m8\u001b[39m\n",
      "\u001b[0;31mModuleNotFoundError\u001b[0m: No module named 'src'"
     ]
    }
   ],
   "source": [
    "import torch\n",
    "from src.spectral_gpt.layers.dsn_embedding import DSNEmbedding\n",
    "\n",
    "def test_dsn_embedding_output_shape_and_range():\n",
    "    B, T, Ω = 2, 4, 8\n",
    "    model = DSNEmbedding(max_depth=Ω)\n",
    "    x = torch.randint(low=0, high=256, size=(B, T), dtype=torch.long)\n",
    "    out = model(x)\n",
    "    # Assert output shape is (B, T, Ω)\n",
    "    assert out.shape == (B, T, Ω)\n",
    "    # All values should be finite floats\n",
    "    assert torch.isfinite(out).all()\n"
   ]
  },
  {
   "cell_type": "code",
   "execution_count": 30,
   "id": "e2dd977f-63b2-481c-af26-bebacf3933af",
   "metadata": {},
   "outputs": [
    {
     "ename": "ModuleNotFoundError",
     "evalue": "No module named 'spectral_gpt'",
     "output_type": "error",
     "traceback": [
      "\u001b[0;31m---------------------------------------------------------------------------\u001b[0m",
      "\u001b[0;31mModuleNotFoundError\u001b[0m                       Traceback (most recent call last)",
      "Cell \u001b[0;32mIn[30], line 1\u001b[0m\n\u001b[0;32m----> 1\u001b[0m \u001b[38;5;28;01mfrom\u001b[39;00m \u001b[38;5;21;01mspectral_gpt\u001b[39;00m\u001b[38;5;21;01m.\u001b[39;00m\u001b[38;5;21;01mlayers\u001b[39;00m\u001b[38;5;21;01m.\u001b[39;00m\u001b[38;5;21;01mdsn_embedding\u001b[39;00m \u001b[38;5;28;01mimport\u001b[39;00m DSNEmbedding\n\u001b[1;32m      3\u001b[0m \u001b[38;5;66;03m# quick smoke test:\u001b[39;00m\n\u001b[1;32m      4\u001b[0m model \u001b[38;5;241m=\u001b[39m DSNEmbedding()\n",
      "\u001b[0;31mModuleNotFoundError\u001b[0m: No module named 'spectral_gpt'"
     ]
    }
   ],
   "source": [
    "from spectral_gpt.layers.dsn_embedding import DSNEmbedding\n",
    "\n",
    "# quick smoke test:\n",
    "model = DSNEmbedding()\n",
    "print(model)   # should print a DSNEmbedding object, not a ModuleNotFoundError\n"
   ]
  },
  {
   "cell_type": "code",
   "execution_count": null,
   "id": "2cac066e-5297-4e23-a09f-70366e63129b",
   "metadata": {},
   "outputs": [],
   "source": []
  }
 ],
 "metadata": {
  "kernelspec": {
   "display_name": "Python [conda env:base] *",
   "language": "python",
   "name": "conda-base-py"
  },
  "language_info": {
   "codemirror_mode": {
    "name": "ipython",
    "version": 3
   },
   "file_extension": ".py",
   "mimetype": "text/x-python",
   "name": "python",
   "nbconvert_exporter": "python",
   "pygments_lexer": "ipython3",
   "version": "3.12.2"
  }
 },
 "nbformat": 4,
 "nbformat_minor": 5
}
